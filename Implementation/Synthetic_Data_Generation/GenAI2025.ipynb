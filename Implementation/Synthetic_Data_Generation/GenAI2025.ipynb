{
  "cells": [
    {
      "cell_type": "code",
      "execution_count": null,
      "metadata": {
        "id": "IODCkwr6rppu"
      },
      "outputs": [],
      "source": [
        "from google.colab import files\n",
        "uploaded = files.upload()\n"
      ]
    },
    {
      "cell_type": "code",
      "execution_count": 1,
      "metadata": {
        "colab": {
          "base_uri": "https://localhost:8080/"
        },
        "id": "Be8SYRPvux6x",
        "outputId": "bb5d3e5f-918e-42ef-c4bd-80e695a2d08a"
      },
      "outputs": [
        {
          "name": "stderr",
          "output_type": "stream",
          "text": [
            "C:\\Users\\vansh\\AppData\\Local\\Temp\\ipykernel_11132\\660105634.py:19: FutureWarning: 'H' is deprecated and will be removed in a future version, please use 'h' instead.\n",
            "  synthetic_data[\"Datetime\"] = pd.date_range(\n"
          ]
        },
        {
          "name": "stdout",
          "output_type": "stream",
          "text": [
            "New dataset saved as 'expanded_dataset.csv'.\n"
          ]
        }
      ],
      "source": [
        "## This code for synthatic data generation\n",
        "import pandas as pd\n",
        "import numpy as np\n",
        "\n",
        "# Load your dataset\n",
        "df = pd.read_csv(\"../../DataSet/powerconsumption.csv\", parse_dates=[\"Datetime\"])\n",
        "\n",
        "# Add small random noise to each numeric column to generate synthetic data\n",
        "def add_noise(df, noise_level=0.02):\n",
        "    numeric_columns = df.select_dtypes(include=[np.number]).columns\n",
        "    for col in numeric_columns:\n",
        "        df[col] += np.random.normal(0, noise_level * df[col].std(), size=len(df))\n",
        "    return df\n",
        "\n",
        "# Add noise and generate synthetic data\n",
        "synthetic_data = add_noise(df.copy())\n",
        "\n",
        "# Create new timestamps for synthetic data (next hour after the original data)\n",
        "synthetic_data[\"Datetime\"] = pd.date_range(\n",
        "    start=df[\"Datetime\"].max() + pd.Timedelta(hours=1),\n",
        "    periods=len(df),\n",
        "    freq=\"H\"\n",
        ")\n",
        "\n",
        "# Combine original and synthetic data\n",
        "df_expanded = pd.concat([df, synthetic_data], ignore_index=True)\n",
        "\n",
        "# Save to new CSV\n",
        "df_expanded.to_csv(\"expanded_dataset.csv\", index=False)\n",
        "\n",
        "print(\"New dataset saved as 'expanded_dataset.csv'.\")\n"
      ]
    },
    {
      "cell_type": "code",
      "execution_count": null,
      "metadata": {},
      "outputs": [
        {
          "data": {
            "text/html": [
              "<div>\n",
              "<style scoped>\n",
              "    .dataframe tbody tr th:only-of-type {\n",
              "        vertical-align: middle;\n",
              "    }\n",
              "\n",
              "    .dataframe tbody tr th {\n",
              "        vertical-align: top;\n",
              "    }\n",
              "\n",
              "    .dataframe thead th {\n",
              "        text-align: right;\n",
              "    }\n",
              "</style>\n",
              "<table border=\"1\" class=\"dataframe\">\n",
              "  <thead>\n",
              "    <tr style=\"text-align: right;\">\n",
              "      <th></th>\n",
              "      <th>Datetime</th>\n",
              "      <th>Temperature</th>\n",
              "      <th>Humidity</th>\n",
              "      <th>WindSpeed</th>\n",
              "      <th>GeneralDiffuseFlows</th>\n",
              "      <th>DiffuseFlows</th>\n",
              "      <th>PowerConsumption_Zone1</th>\n",
              "      <th>PowerConsumption_Zone2</th>\n",
              "      <th>PowerConsumption_Zone3</th>\n",
              "    </tr>\n",
              "  </thead>\n",
              "  <tbody>\n",
              "    <tr>\n",
              "      <th>104827</th>\n",
              "      <td>2023-12-23 19:50:00</td>\n",
              "      <td>7.153073</td>\n",
              "      <td>72.741184</td>\n",
              "      <td>0.067249</td>\n",
              "      <td>6.498456</td>\n",
              "      <td>-0.860030</td>\n",
              "      <td>31121.029906</td>\n",
              "      <td>26841.671971</td>\n",
              "      <td>14869.245906</td>\n",
              "    </tr>\n",
              "    <tr>\n",
              "      <th>104828</th>\n",
              "      <td>2023-12-23 20:50:00</td>\n",
              "      <td>7.000935</td>\n",
              "      <td>72.292140</td>\n",
              "      <td>0.034778</td>\n",
              "      <td>-1.846641</td>\n",
              "      <td>5.498124</td>\n",
              "      <td>30501.137282</td>\n",
              "      <td>26108.168783</td>\n",
              "      <td>14578.703666</td>\n",
              "    </tr>\n",
              "    <tr>\n",
              "      <th>104829</th>\n",
              "      <td>2023-12-23 21:50:00</td>\n",
              "      <td>6.974724</td>\n",
              "      <td>72.941966</td>\n",
              "      <td>0.021634</td>\n",
              "      <td>6.023748</td>\n",
              "      <td>0.539472</td>\n",
              "      <td>29542.436741</td>\n",
              "      <td>25367.677757</td>\n",
              "      <td>13908.406765</td>\n",
              "    </tr>\n",
              "    <tr>\n",
              "      <th>104830</th>\n",
              "      <td>2023-12-23 22:50:00</td>\n",
              "      <td>6.689654</td>\n",
              "      <td>73.340130</td>\n",
              "      <td>0.071265</td>\n",
              "      <td>-0.993524</td>\n",
              "      <td>4.196468</td>\n",
              "      <td>29019.323679</td>\n",
              "      <td>24792.207496</td>\n",
              "      <td>13590.893751</td>\n",
              "    </tr>\n",
              "    <tr>\n",
              "      <th>104831</th>\n",
              "      <td>2023-12-23 23:50:00</td>\n",
              "      <td>6.592800</td>\n",
              "      <td>74.290712</td>\n",
              "      <td>0.061586</td>\n",
              "      <td>7.320441</td>\n",
              "      <td>3.177160</td>\n",
              "      <td>28248.448170</td>\n",
              "      <td>24082.978616</td>\n",
              "      <td>13304.314940</td>\n",
              "    </tr>\n",
              "  </tbody>\n",
              "</table>\n",
              "</div>"
            ],
            "text/plain": [
              "                  Datetime  Temperature   Humidity  WindSpeed  \\\n",
              "104827 2023-12-23 19:50:00     7.153073  72.741184   0.067249   \n",
              "104828 2023-12-23 20:50:00     7.000935  72.292140   0.034778   \n",
              "104829 2023-12-23 21:50:00     6.974724  72.941966   0.021634   \n",
              "104830 2023-12-23 22:50:00     6.689654  73.340130   0.071265   \n",
              "104831 2023-12-23 23:50:00     6.592800  74.290712   0.061586   \n",
              "\n",
              "        GeneralDiffuseFlows  DiffuseFlows  PowerConsumption_Zone1  \\\n",
              "104827             6.498456     -0.860030            31121.029906   \n",
              "104828            -1.846641      5.498124            30501.137282   \n",
              "104829             6.023748      0.539472            29542.436741   \n",
              "104830            -0.993524      4.196468            29019.323679   \n",
              "104831             7.320441      3.177160            28248.448170   \n",
              "\n",
              "        PowerConsumption_Zone2  PowerConsumption_Zone3  \n",
              "104827            26841.671971            14869.245906  \n",
              "104828            26108.168783            14578.703666  \n",
              "104829            25367.677757            13908.406765  \n",
              "104830            24792.207496            13590.893751  \n",
              "104831            24082.978616            13304.314940  "
            ]
          },
          "execution_count": 2,
          "metadata": {},
          "output_type": "execute_result"
        }
      ],
      "source": [
        "df_expanded.tail()\n"
      ]
    },
    {
      "cell_type": "code",
      "execution_count": null,
      "metadata": {
        "colab": {
          "base_uri": "https://localhost:8080/"
        },
        "id": "aaMmjLFyyQhS",
        "outputId": "b0053b93-b707-4ea6-bf2f-d0e5ecc2f719"
      },
      "outputs": [
        {
          "name": "stderr",
          "output_type": "stream",
          "text": [
            "<ipython-input-10-6a490ad51a09>:22: FutureWarning: 'H' is deprecated and will be removed in a future version, please use 'h' instead.\n",
            "  expanded_data[\"Datetime\"] = pd.date_range(\n"
          ]
        },
        {
          "name": "stdout",
          "output_type": "stream",
          "text": [
            "New dataset saved as 'expanded_dataset1.csv'. Size is now: 262080 rows.\n"
          ]
        }
      ],
      "source": [
        "## This code for synthatic data generation and increase the size of datasets\n",
        "import pandas as pd\n",
        "import numpy as np\n",
        "\n",
        "# Load your dataset\n",
        "df = pd.read_csv(\"powerconsumption.csv\", parse_dates=[\"Datetime\"])\n",
        "\n",
        "# Function to add random noise to the numeric columns\n",
        "def add_noise(df, noise_level=0.02):\n",
        "    numeric_columns = df.select_dtypes(include=[np.number]).columns\n",
        "    for col in numeric_columns:\n",
        "        df[col] += np.random.normal(0, noise_level * df[col].std(), size=len(df))\n",
        "    return df\n",
        "\n",
        "# Function to increase the dataset size\n",
        "def increase_data_size(df, times=5, noise_level=0.02):\n",
        "    expanded_data = df.copy()  # Start with the original data\n",
        "    for _ in range(times - 1):  # Repeat data 'times' times\n",
        "        noisy_data = add_noise(df.copy(), noise_level)\n",
        "        expanded_data = pd.concat([expanded_data, noisy_data], ignore_index=True)\n",
        "\n",
        "    # Reset 'Datetime' column to generate new timestamps\n",
        "    expanded_data[\"Datetime\"] = pd.date_range(\n",
        "        start=df[\"Datetime\"].max() + pd.Timedelta(hours=1),  # Start after the last timestamp\n",
        "        periods=len(expanded_data),\n",
        "        freq=\"H\"\n",
        "    )\n",
        "\n",
        "    return expanded_data\n",
        "\n",
        "# Increase the size of the dataset (e.g., increase 5 times)\n",
        "expanded_df = increase_data_size(df, times=5, noise_level=0.02)\n",
        "\n",
        "# Save the expanded dataset to a new CSV file\n",
        "expanded_df.to_csv(\"expanded_dataset1.csv\", index=False)\n",
        "\n",
        "print(f\"New dataset saved as 'expanded_dataset1.csv'. Size is now: {expanded_df.shape[0]} rows.\")\n"
      ]
    }
  ],
  "metadata": {
    "accelerator": "TPU",
    "colab": {
      "cell_execution_strategy": "setup",
      "gpuType": "V28",
      "provenance": []
    },
    "kernelspec": {
      "display_name": "Python 3",
      "name": "python3"
    },
    "language_info": {
      "codemirror_mode": {
        "name": "ipython",
        "version": 3
      },
      "file_extension": ".py",
      "mimetype": "text/x-python",
      "name": "python",
      "nbconvert_exporter": "python",
      "pygments_lexer": "ipython3",
      "version": "3.12.8"
    }
  },
  "nbformat": 4,
  "nbformat_minor": 0
}
