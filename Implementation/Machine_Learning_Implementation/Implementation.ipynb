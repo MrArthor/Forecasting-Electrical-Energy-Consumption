version https://git-lfs.github.com/spec/v1
oid sha256:ea23f9847b090db306c93f121e86cfb3c51a67ea3d1e5ebfb6c8d655744741b0
size 112854
