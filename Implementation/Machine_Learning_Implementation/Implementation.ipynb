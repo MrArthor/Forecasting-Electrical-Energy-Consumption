version https://git-lfs.github.com/spec/v1
oid sha256:5edd3bffd3fd42a25e143998a6321bd8a981bead5cf083eb06cd95a3e3e63752
size 25787156
