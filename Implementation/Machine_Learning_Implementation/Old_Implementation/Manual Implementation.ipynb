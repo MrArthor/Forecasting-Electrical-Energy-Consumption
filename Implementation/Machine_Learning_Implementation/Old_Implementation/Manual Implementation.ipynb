version https://git-lfs.github.com/spec/v1
oid sha256:a138c9f7867189bfaf49529a39ca991d028c01483d6571daf40e9fb56052ebb3
size 1815018
